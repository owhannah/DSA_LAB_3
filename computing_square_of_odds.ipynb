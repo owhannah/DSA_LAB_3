{
 "cells": [
  {
   "cell_type": "code",
   "execution_count": 1,
   "metadata": {},
   "outputs": [
    {
     "name": "stdout",
     "output_type": "stream",
     "text": [
      "[9]\n",
      "[1, 1]\n"
     ]
    }
   ],
   "source": [
    "# exercise 1 lab 3\n",
    "\n",
    "# computing the square of odd integer elements\n",
    "def square_of_odds(lst):\n",
    "    result = []\n",
    "    for x in lst:\n",
    "        if x % 2 != 0:\n",
    "            result.append(x**2)\n",
    "    return result\n",
    "# example output [9]\n",
    "print(square_of_odds([2, 4, 3]))\n",
    "# example output [1, 1]\n",
    "print(square_of_odds([0, 0, 1, 1]))\n",
    "\n",
    "\n",
    "    "
   ]
  }
 ],
 "metadata": {
  "kernelspec": {
   "display_name": "Python 3",
   "language": "python",
   "name": "python3"
  },
  "language_info": {
   "codemirror_mode": {
    "name": "ipython",
    "version": 3
   },
   "file_extension": ".py",
   "mimetype": "text/x-python",
   "name": "python",
   "nbconvert_exporter": "python",
   "pygments_lexer": "ipython3",
   "version": "3.12.1"
  }
 },
 "nbformat": 4,
 "nbformat_minor": 2
}
