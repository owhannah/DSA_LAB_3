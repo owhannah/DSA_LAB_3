{
 "cells": [
  {
   "cell_type": "code",
   "execution_count": 7,
   "metadata": {},
   "outputs": [
    {
     "name": "stdout",
     "output_type": "stream",
     "text": [
      "==\n",
      "HEllO, wOrld!\n",
      "hEllO hI byE\n"
     ]
    }
   ],
   "source": [
    "# execise 3 lab 3\n",
    "\n",
    "# implementing vowelsToUpper using list comprehension\n",
    "def vowelsToUpper(string):\n",
    "    return ''.join(char.upper() if char in 'aeiouAEIOU' else char for char in string)\n",
    "# example output\n",
    "print(vowelsToUpper(\"==\"))\n",
    "print(vowelsToUpper(\"Hello, world!\"))\n",
    "print(vowelsToUpper(\"hello hi bye\"))"
   ]
  }
 ],
 "metadata": {
  "kernelspec": {
   "display_name": "Python 3",
   "language": "python",
   "name": "python3"
  },
  "language_info": {
   "codemirror_mode": {
    "name": "ipython",
    "version": 3
   },
   "file_extension": ".py",
   "mimetype": "text/x-python",
   "name": "python",
   "nbconvert_exporter": "python",
   "pygments_lexer": "ipython3",
   "version": "3.12.1"
  }
 },
 "nbformat": 4,
 "nbformat_minor": 2
}
